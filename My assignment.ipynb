{
 "cells": [
  {
   "cell_type": "markdown",
   "metadata": {
    "collapsed": true
   },
   "source": [
    "# My Jupyter Notebook on IBM Watson Studio"
   ]
  },
  {
   "cell_type": "markdown",
   "metadata": {},
   "source": [
    "**Ekaterina Rafikova** <br>\n",
    "Molecular geneticist"
   ]
  },
  {
   "cell_type": "markdown",
   "metadata": {},
   "source": [
    "*I'm interested in data science because it's impressive to finde insights and solutions from data. I hope to use these skills in my genetic research.* "
   ]
  },
  {
   "cell_type": "markdown",
   "metadata": {},
   "source": [
    "### Percentage of data scientists in IT if there are 1435 IT specialists, of which 273 are data scientists"
   ]
  },
  {
   "cell_type": "code",
   "execution_count": 1,
   "metadata": {
    "scrolled": true
   },
   "outputs": [
    {
     "data": {
      "text/plain": [
       "19.024390243902438"
      ]
     },
     "execution_count": 1,
     "metadata": {},
     "output_type": "execute_result"
    }
   ],
   "source": [
    "273*100/1435"
   ]
  },
  {
   "cell_type": "markdown",
   "metadata": {},
   "source": [
    "### Benefits of data science\n",
    "\n",
    "***\n",
    "\n",
    "#### Reasons to be a data scientist:\n",
    "1. Interesting tasks\n",
    "2. High salary\n",
    "3. Worldwide community\n",
    "\n",
    "#### Figure 1. Happy data scientist\n",
    "![Happy data scientist](https://thumbor.forbes.com/thumbor/fit-in/900x510/https://www.forbes.com/advisor/wp-content/uploads/2022/07/internship.jpeg.jpg)\n",
    "\n",
    "#### Table 1. Average incom of IT specialists per year\n",
    "\n",
    "| Profession | Income ($) |\n",
    "| --- | --- |\n",
    "| Analyst | 80000 |\n",
    "| Programmer | 100000 |\n",
    "| Data scientist | 120000 |"
   ]
  }
 ],
 "metadata": {
  "kernelspec": {
   "display_name": "Python 3.9",
   "language": "python",
   "name": "python3"
  },
  "language_info": {
   "codemirror_mode": {
    "name": "ipython",
    "version": 3
   },
   "file_extension": ".py",
   "mimetype": "text/x-python",
   "name": "python",
   "nbconvert_exporter": "python",
   "pygments_lexer": "ipython3",
   "version": "3.9.13"
  }
 },
 "nbformat": 4,
 "nbformat_minor": 1
}
